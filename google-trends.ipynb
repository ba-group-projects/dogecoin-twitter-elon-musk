{
 "cells": [
  {
   "cell_type": "code",
   "execution_count": 1,
   "metadata": {},
   "outputs": [],
   "source": [
    "import pandas as pd\n",
    "import numpy as np\n",
    "import matplotlib.pyplot as plt\n",
    "import statsmodels.api as sm\n",
    "import seaborn as sns\n",
    "from datetime import datetime, timedelta\n",
    "from pytrends.request import TrendReq\n",
    "import yfinance as yf\n",
    "\n",
    "pd.set_option('display.max_columns', None)\n",
    "pd.set_option('display.max_rows', None)"
   ]
  },
  {
   "cell_type": "code",
   "execution_count": 2,
   "metadata": {},
   "outputs": [],
   "source": [
    "ori_tweets_df = pd.read_csv('data/tweets_clean.csv')\n",
    "ori_share_price_df = pd.read_csv('data/share_price.csv')"
   ]
  },
  {
   "cell_type": "code",
   "execution_count": 3,
   "metadata": {},
   "outputs": [
    {
     "name": "stderr",
     "output_type": "stream",
     "text": [
      "<ipython-input-3-8e26d447d1ba>:7: FutureWarning: Series.dt.weekofyear and Series.dt.week have been deprecated.  Please use Series.dt.isocalendar().week instead.\n",
      "  clean_tweets_df['week'] = clean_tweets_df['date'].dt.week\n"
     ]
    },
    {
     "data": {
      "text/html": [
       "<div>\n",
       "<style scoped>\n",
       "    .dataframe tbody tr th:only-of-type {\n",
       "        vertical-align: middle;\n",
       "    }\n",
       "\n",
       "    .dataframe tbody tr th {\n",
       "        vertical-align: top;\n",
       "    }\n",
       "\n",
       "    .dataframe thead th {\n",
       "        text-align: right;\n",
       "    }\n",
       "</style>\n",
       "<table border=\"1\" class=\"dataframe\">\n",
       "  <thead>\n",
       "    <tr style=\"text-align: right;\">\n",
       "      <th></th>\n",
       "      <th>timestamp</th>\n",
       "      <th>content</th>\n",
       "      <th>like</th>\n",
       "      <th>retweet</th>\n",
       "      <th>comment</th>\n",
       "      <th>date</th>\n",
       "      <th>week</th>\n",
       "    </tr>\n",
       "  </thead>\n",
       "  <tbody>\n",
       "    <tr>\n",
       "      <th>0</th>\n",
       "      <td>2021-07-01 09:24:21+00:00</td>\n",
       "      <td>Baby Doge, doo, doo, doo, doo, doo,\\nBaby Doge...</td>\n",
       "      <td>279K</td>\n",
       "      <td>False</td>\n",
       "      <td>44K</td>\n",
       "      <td>2021-07-01</td>\n",
       "      <td>26</td>\n",
       "    </tr>\n",
       "    <tr>\n",
       "      <th>1</th>\n",
       "      <td>2021-05-24 20:29:33+00:00</td>\n",
       "      <td>Someone suggested changing Dogecoin fees based...</td>\n",
       "      <td>130.4K</td>\n",
       "      <td>False</td>\n",
       "      <td>8.1K</td>\n",
       "      <td>2021-05-24</td>\n",
       "      <td>21</td>\n",
       "    </tr>\n",
       "    <tr>\n",
       "      <th>2</th>\n",
       "      <td>2021-05-24 19:49:56+00:00</td>\n",
       "      <td>If you’d like to help develop Doge, please sub...</td>\n",
       "      <td>191.3K</td>\n",
       "      <td>False</td>\n",
       "      <td>21.9K</td>\n",
       "      <td>2021-05-24</td>\n",
       "      <td>21</td>\n",
       "    </tr>\n",
       "    <tr>\n",
       "      <th>3</th>\n",
       "      <td>2021-05-11 08:13:35+00:00</td>\n",
       "      <td>Do you want Tesla to accept Doge?</td>\n",
       "      <td>395.6K</td>\n",
       "      <td>False</td>\n",
       "      <td>97.6K</td>\n",
       "      <td>2021-05-11</td>\n",
       "      <td>19</td>\n",
       "    </tr>\n",
       "    <tr>\n",
       "      <th>4</th>\n",
       "      <td>2021-04-01 10:25:23+00:00</td>\n",
       "      <td>SpaceX is going to put a literal Dogecoin on t...</td>\n",
       "      <td>535K</td>\n",
       "      <td>False</td>\n",
       "      <td>25.2K</td>\n",
       "      <td>2021-04-01</td>\n",
       "      <td>13</td>\n",
       "    </tr>\n",
       "    <tr>\n",
       "      <th>5</th>\n",
       "      <td>2021-03-13 23:40:41+00:00</td>\n",
       "      <td>Doge day afternoon</td>\n",
       "      <td>171.9K</td>\n",
       "      <td>False</td>\n",
       "      <td>7.1K</td>\n",
       "      <td>2021-03-13</td>\n",
       "      <td>10</td>\n",
       "    </tr>\n",
       "    <tr>\n",
       "      <th>6</th>\n",
       "      <td>2021-02-14 23:25:16+00:00</td>\n",
       "      <td>If major Dogecoin holders sell most of their c...</td>\n",
       "      <td>322.7K</td>\n",
       "      <td>False</td>\n",
       "      <td>27.7K</td>\n",
       "      <td>2021-02-14</td>\n",
       "      <td>6</td>\n",
       "    </tr>\n",
       "  </tbody>\n",
       "</table>\n",
       "</div>"
      ],
      "text/plain": [
       "                   timestamp  \\\n",
       "0  2021-07-01 09:24:21+00:00   \n",
       "1  2021-05-24 20:29:33+00:00   \n",
       "2  2021-05-24 19:49:56+00:00   \n",
       "3  2021-05-11 08:13:35+00:00   \n",
       "4  2021-04-01 10:25:23+00:00   \n",
       "5  2021-03-13 23:40:41+00:00   \n",
       "6  2021-02-14 23:25:16+00:00   \n",
       "\n",
       "                                             content    like  retweet comment  \\\n",
       "0  Baby Doge, doo, doo, doo, doo, doo,\\nBaby Doge...    279K    False     44K   \n",
       "1  Someone suggested changing Dogecoin fees based...  130.4K    False    8.1K   \n",
       "2  If you’d like to help develop Doge, please sub...  191.3K    False   21.9K   \n",
       "3                  Do you want Tesla to accept Doge?  395.6K    False   97.6K   \n",
       "4  SpaceX is going to put a literal Dogecoin on t...    535K    False   25.2K   \n",
       "5                                 Doge day afternoon  171.9K    False    7.1K   \n",
       "6  If major Dogecoin holders sell most of their c...  322.7K    False   27.7K   \n",
       "\n",
       "        date  week  \n",
       "0 2021-07-01    26  \n",
       "1 2021-05-24    21  \n",
       "2 2021-05-24    21  \n",
       "3 2021-05-11    19  \n",
       "4 2021-04-01    13  \n",
       "5 2021-03-13    10  \n",
       "6 2021-02-14     6  "
      ]
     },
     "execution_count": 3,
     "metadata": {},
     "output_type": "execute_result"
    }
   ],
   "source": [
    "clean_tweets_df = ori_tweets_df.copy()\n",
    "clean_tweets_df = clean_tweets_df.drop_duplicates()\n",
    "clean_tweets_df.columns = ['timestamp', 'content', 'like', 'retweet', 'comment']\n",
    "clean_tweets_df['date'] = pd.to_datetime(clean_tweets_df['timestamp'])\n",
    "clean_tweets_df['date'] = clean_tweets_df['date'].dt.date\n",
    "clean_tweets_df['date'] = pd.to_datetime(clean_tweets_df['date'])\n",
    "clean_tweets_df['week'] = clean_tweets_df['date'].dt.week\n",
    "clean_tweets_df"
   ]
  },
  {
   "cell_type": "code",
   "execution_count": 6,
   "metadata": {},
   "outputs": [
    {
     "name": "stdout",
     "output_type": "stream",
     "text": [
      "Baby Doge, doo, doo, doo, doo, doo,\n",
      "Baby Doge, doo, doo, doo, doo, doo,\n",
      "Baby Doge, doo, doo, doo, doo, doo,\n",
      "Baby Doge\n",
      "Someone suggested changing Dogecoin fees based on phases of the moon, which is pretty awesome haha\n",
      "If you’d like to help develop Doge, please submit ideas on GitHub & \n",
      "Do you want Tesla to accept Doge?\n",
      "SpaceX is going to put a literal Dogecoin on the literal moon\n",
      "Doge day afternoon\n",
      "If major Dogecoin holders sell most of their coins, it will get my full support. Too much concentration is the only real issue imo.\n"
     ]
    }
   ],
   "source": [
    "for text in clean_tweets_df['content']:\n",
    "    print(text)"
   ]
  },
  {
   "cell_type": "code",
   "execution_count": 92,
   "metadata": {},
   "outputs": [],
   "source": [
    "def get_tesla_share_price():\n",
    "    \"\"\"\n",
    "    Get the current share price of Tesla.\n",
    "    \"\"\"\n",
    "    ticker = yf.Ticker(\"TSLA\")\n",
    "    price = ticker.history(start='2021-01-01')\n",
    "\n",
    "    return price"
   ]
  },
  {
   "cell_type": "code",
   "execution_count": 94,
   "metadata": {},
   "outputs": [
    {
     "name": "stderr",
     "output_type": "stream",
     "text": [
      "<ipython-input-94-74be86b88287>:4: FutureWarning: Series.dt.weekofyear and Series.dt.week have been deprecated.  Please use Series.dt.isocalendar().week instead.\n",
      "  clean_share_price_df['week'] = clean_share_price_df['date'].dt.week\n"
     ]
    },
    {
     "data": {
      "text/html": [
       "<div>\n",
       "<style scoped>\n",
       "    .dataframe tbody tr th:only-of-type {\n",
       "        vertical-align: middle;\n",
       "    }\n",
       "\n",
       "    .dataframe tbody tr th {\n",
       "        vertical-align: top;\n",
       "    }\n",
       "\n",
       "    .dataframe thead th {\n",
       "        text-align: right;\n",
       "    }\n",
       "</style>\n",
       "<table border=\"1\" class=\"dataframe\">\n",
       "  <thead>\n",
       "    <tr style=\"text-align: right;\">\n",
       "      <th></th>\n",
       "      <th>week</th>\n",
       "      <th>avg_high_price</th>\n",
       "    </tr>\n",
       "  </thead>\n",
       "  <tbody>\n",
       "    <tr>\n",
       "      <th>0</th>\n",
       "      <td>1</td>\n",
       "      <td>792.162000</td>\n",
       "    </tr>\n",
       "    <tr>\n",
       "      <th>1</th>\n",
       "      <td>2</td>\n",
       "      <td>861.159998</td>\n",
       "    </tr>\n",
       "    <tr>\n",
       "      <th>2</th>\n",
       "      <td>3</td>\n",
       "      <td>853.304993</td>\n",
       "    </tr>\n",
       "    <tr>\n",
       "      <th>3</th>\n",
       "      <td>4</td>\n",
       "      <td>875.642004</td>\n",
       "    </tr>\n",
       "    <tr>\n",
       "      <th>4</th>\n",
       "      <td>5</td>\n",
       "      <td>864.370007</td>\n",
       "    </tr>\n",
       "  </tbody>\n",
       "</table>\n",
       "</div>"
      ],
      "text/plain": [
       "   week  avg_high_price\n",
       "0     1      792.162000\n",
       "1     2      861.159998\n",
       "2     3      853.304993\n",
       "3     4      875.642004\n",
       "4     5      864.370007"
      ]
     },
     "execution_count": 94,
     "metadata": {},
     "output_type": "execute_result"
    }
   ],
   "source": [
    "clean_share_price_df = pd.DataFrame(get_tesla_share_price()).reset_index()\n",
    "clean_share_price_df.columns = [x.lower() for x in clean_share_price_df.columns]\n",
    "clean_share_price_df['date'] = pd.to_datetime(clean_share_price_df['date'])\n",
    "clean_share_price_df['week'] = clean_share_price_df['date'].dt.week\n",
    "clean_share_price_df = clean_share_price_df.groupby('week')['high'].agg([np.mean]).reset_index().rename(columns={'mean': 'avg_high_price'})\n",
    "clean_share_price_df.head()"
   ]
  },
  {
   "cell_type": "code",
   "execution_count": 109,
   "metadata": {},
   "outputs": [
    {
     "name": "stderr",
     "output_type": "stream",
     "text": [
      "<ipython-input-109-e6b1384bd52c>:7: FutureWarning: Series.dt.weekofyear and Series.dt.week have been deprecated.  Please use Series.dt.isocalendar().week instead.\n",
      "  trendsdf['week'] = trendsdf['date'].dt.week\n"
     ]
    },
    {
     "data": {
      "text/html": [
       "<div>\n",
       "<style scoped>\n",
       "    .dataframe tbody tr th:only-of-type {\n",
       "        vertical-align: middle;\n",
       "    }\n",
       "\n",
       "    .dataframe tbody tr th {\n",
       "        vertical-align: top;\n",
       "    }\n",
       "\n",
       "    .dataframe thead th {\n",
       "        text-align: right;\n",
       "    }\n",
       "</style>\n",
       "<table border=\"1\" class=\"dataframe\">\n",
       "  <thead>\n",
       "    <tr style=\"text-align: right;\">\n",
       "      <th></th>\n",
       "      <th>week</th>\n",
       "      <th>avg_search</th>\n",
       "    </tr>\n",
       "  </thead>\n",
       "  <tbody>\n",
       "    <tr>\n",
       "      <th>0</th>\n",
       "      <td>1</td>\n",
       "      <td>62.428571</td>\n",
       "    </tr>\n",
       "    <tr>\n",
       "      <th>1</th>\n",
       "      <td>2</td>\n",
       "      <td>62.000000</td>\n",
       "    </tr>\n",
       "    <tr>\n",
       "      <th>2</th>\n",
       "      <td>3</td>\n",
       "      <td>46.285714</td>\n",
       "    </tr>\n",
       "    <tr>\n",
       "      <th>3</th>\n",
       "      <td>4</td>\n",
       "      <td>59.857143</td>\n",
       "    </tr>\n",
       "    <tr>\n",
       "      <th>4</th>\n",
       "      <td>5</td>\n",
       "      <td>47.857143</td>\n",
       "    </tr>\n",
       "  </tbody>\n",
       "</table>\n",
       "</div>"
      ],
      "text/plain": [
       "   week  avg_search\n",
       "0     1   62.428571\n",
       "1     2   62.000000\n",
       "2     3   46.285714\n",
       "3     4   59.857143\n",
       "4     5   47.857143"
      ]
     },
     "execution_count": 109,
     "metadata": {},
     "output_type": "execute_result"
    }
   ],
   "source": [
    "pytrend = TrendReq()\n",
    "pytrend.build_payload(kw_list = [\"tesla\"],timeframe='2021-01-04 2021-07-31')\n",
    "trends = pytrend.interest_over_time()\n",
    "trendsdf = pd.DataFrame(data = {'date': trends.index.tolist(),\n",
    "                                'search': trends[\"tesla\"].tolist()})\n",
    "trendsdf['date'] = pd.to_datetime(trendsdf['date'])\n",
    "trendsdf['week'] = trendsdf['date'].dt.week\n",
    "# trendsdf = trendsdf[trendsdf['week'] != 53]\n",
    "trendsdf = trendsdf.groupby('week')['search'].agg([np.mean]).reset_index().rename(columns = {'mean':'avg_search'})\n",
    "trendsdf.head()"
   ]
  },
  {
   "cell_type": "code",
   "execution_count": 110,
   "metadata": {},
   "outputs": [
    {
     "data": {
      "text/html": [
       "<div>\n",
       "<style scoped>\n",
       "    .dataframe tbody tr th:only-of-type {\n",
       "        vertical-align: middle;\n",
       "    }\n",
       "\n",
       "    .dataframe tbody tr th {\n",
       "        vertical-align: top;\n",
       "    }\n",
       "\n",
       "    .dataframe thead th {\n",
       "        text-align: right;\n",
       "    }\n",
       "</style>\n",
       "<table border=\"1\" class=\"dataframe\">\n",
       "  <thead>\n",
       "    <tr style=\"text-align: right;\">\n",
       "      <th></th>\n",
       "      <th>week</th>\n",
       "      <th>avg_search</th>\n",
       "      <th>avg_high_price</th>\n",
       "    </tr>\n",
       "  </thead>\n",
       "  <tbody>\n",
       "    <tr>\n",
       "      <th>0</th>\n",
       "      <td>1</td>\n",
       "      <td>62.428571</td>\n",
       "      <td>792.162000</td>\n",
       "    </tr>\n",
       "    <tr>\n",
       "      <th>1</th>\n",
       "      <td>2</td>\n",
       "      <td>62.000000</td>\n",
       "      <td>861.159998</td>\n",
       "    </tr>\n",
       "    <tr>\n",
       "      <th>2</th>\n",
       "      <td>3</td>\n",
       "      <td>46.285714</td>\n",
       "      <td>853.304993</td>\n",
       "    </tr>\n",
       "    <tr>\n",
       "      <th>3</th>\n",
       "      <td>4</td>\n",
       "      <td>59.857143</td>\n",
       "      <td>875.642004</td>\n",
       "    </tr>\n",
       "    <tr>\n",
       "      <th>4</th>\n",
       "      <td>5</td>\n",
       "      <td>47.857143</td>\n",
       "      <td>864.370007</td>\n",
       "    </tr>\n",
       "  </tbody>\n",
       "</table>\n",
       "</div>"
      ],
      "text/plain": [
       "   week  avg_search  avg_high_price\n",
       "0     1   62.428571      792.162000\n",
       "1     2   62.000000      861.159998\n",
       "2     3   46.285714      853.304993\n",
       "3     4   59.857143      875.642004\n",
       "4     5   47.857143      864.370007"
      ]
     },
     "execution_count": 110,
     "metadata": {},
     "output_type": "execute_result"
    }
   ],
   "source": [
    "merge_df_1 = pd.merge(trendsdf, clean_share_price_df, on='week', how='left')\n",
    "merge_df_1.head()"
   ]
  },
  {
   "cell_type": "code",
   "execution_count": 111,
   "metadata": {},
   "outputs": [],
   "source": [
    "merge_df_2 = pd.merge(merge_df_1, clean_tweets_df, on='week', how='left')\n",
    "merge_df_2['doge_tweet'] = merge_df_2['timestamp'].notna()\n",
    "# merge_df_2"
   ]
  },
  {
   "cell_type": "code",
   "execution_count": 113,
   "metadata": {},
   "outputs": [
    {
     "data": {
      "image/png": "[encoded data removed]",
      "text/plain": [
       "<Figure size 432x288 with 1 Axes>"
      ]
     },
     "metadata": {
      "needs_background": "light"
     },
     "output_type": "display_data"
    }
   ],
   "source": [
    "sns.scatterplot( x = 'week',y = 'avg_high_price',data = merge_df_2,hue=\"doge_tweet\", alpha=0.5)\n",
    "plt.show()"
   ]
  },
  {
   "cell_type": "code",
   "execution_count": 114,
   "metadata": {},
   "outputs": [
    {
     "data": {
      "image/png": "[encoded data removed]",
      "text/plain": [
       "<Figure size 432x288 with 1 Axes>"
      ]
     },
     "metadata": {
      "needs_background": "light"
     },
     "output_type": "display_data"
    }
   ],
   "source": [
    "sns.scatterplot( x = 'week',y = 'avg_search',data = merge_df_2,hue=\"doge_tweet\",alpha=0.5)\n",
    "plt.show()"
   ]
  },
  {
   "cell_type": "code",
   "execution_count": null,
   "metadata": {},
   "outputs": [],
   "source": []
  }
 ],
 "metadata": {
  "interpreter": {
   "hash": "df4e212b3ca48d28190f7fa319070b735bf716a22d4b5700005d4436fb499095"
  },
  "kernelspec": {
   "display_name": "Python 3.8.8 64-bit ('smm750': conda)",
   "language": "python",
   "name": "python3"
  },
  "language_info": {
   "codemirror_mode": {
    "name": "ipython",
    "version": 3
   },
   "file_extension": ".py",
   "mimetype": "text/x-python",
   "name": "python",
   "nbconvert_exporter": "python",
   "pygments_lexer": "ipython3",
   "version": "3.8.8"
  },
  "orig_nbformat": 4
 },
 "nbformat": 4,
 "nbformat_minor": 2
}
