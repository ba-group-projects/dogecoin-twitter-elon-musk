{
 "cells": [
  {
   "cell_type": "markdown",
   "metadata": {},
   "source": [
    "Background: Dogecoin is a memecoin because it was created as a joke but has attracted a lot of attention when it ranked top 10 with ~33B USD market cap\n",
    "\n",
    "Context: In Dogecoin's perspective, how does Elon Musk tweeting about Dogecoin influence the Google search engagement and crypto market value\n",
    "\n",
    "Hypotheses\n",
    "\n",
    "1. Elon Musk tweeting about Dogecoin heavily impacts the cryto price\n",
    "    - Analyze the reaction of Dogecoin price 10 mins after Elon Musk tweeted about it\n",
    "2. Elon Musk tweeting about Dogecoin heavily impacts the Google search engagement\n",
    "    - Alanlyze possible delayed effect of Elon Musk's tweet on Dogecoin' Google search engagement"
   ]
  },
  {
   "cell_type": "markdown",
   "metadata": {},
   "source": [
    "### Import Packages"
   ]
  },
  {
   "cell_type": "code",
   "execution_count": 2,
   "metadata": {},
   "outputs": [],
   "source": [
    "import pandas as pd\n",
    "import ccxt\n",
    "from debugpy.common import timestamp\n",
    "from datetime import datetime\n",
    "import numpy as np\n",
    "from pytrends.request import TrendReq\n",
    "from dateutil import parser\n",
    "\n",
    "pd.set_option('display.max_columns', None)\n",
    "pd.set_option('display.max_rows', None)"
   ]
  },
  {
   "cell_type": "markdown",
   "metadata": {},
   "source": [
    "### Read Dogecoin Tweets and Cyrpto Price to Merge"
   ]
  },
  {
   "cell_type": "code",
   "execution_count": 3,
   "metadata": {},
   "outputs": [],
   "source": [
    "tweets_df = pd.read_csv('data/dogecoin_tweets.csv')\n",
    "tweets_df['timestamp'] = pd.to_datetime(tweets_df['timestamp'])\n",
    "\n",
    "dogecoin_price_df = pd.read_csv('data/dogecoin_price.csv')\n",
    "dogecoin_price_df['timestamp'] = pd.to_datetime(dogecoin_price_df['timestamp'], unit='ms')\n",
    "\n",
    "merge_df = pd.merge(left=dogecoin_price_df, right=tweets_df, how='left', on='timestamp')"
   ]
  },
  {
   "cell_type": "code",
   "execution_count": 17,
   "metadata": {},
   "outputs": [
    {
     "name": "stdout",
     "output_type": "stream",
     "text": [
      "<class 'pandas.core.frame.DataFrame'>\n",
      "Int64Index: 2544 entries, 0 to 2543\n",
      "Data columns (total 10 columns):\n",
      " #   Column         Non-Null Count  Dtype         \n",
      "---  ------         --------------  -----         \n",
      " 0   timestamp      2544 non-null   datetime64[ns]\n",
      " 1   open           2544 non-null   float64       \n",
      " 2   high           2544 non-null   float64       \n",
      " 3   low            2544 non-null   float64       \n",
      " 4   close          2544 non-null   float64       \n",
      " 5   volume         2544 non-null   float64       \n",
      " 6   tweet_content  17 non-null     object        \n",
      " 7   retweet_count  17 non-null     float64       \n",
      " 8   quote_count    17 non-null     float64       \n",
      " 9   like_count     17 non-null     float64       \n",
      "dtypes: datetime64[ns](1), float64(8), object(1)\n",
      "memory usage: 218.6+ KB\n"
     ]
    }
   ],
   "source": [
    "merge_df.info()"
   ]
  },
  {
   "cell_type": "code",
   "execution_count": 16,
   "metadata": {},
   "outputs": [
    {
     "data": {
      "text/html": [
       "<div>\n",
       "<style scoped>\n",
       "    .dataframe tbody tr th:only-of-type {\n",
       "        vertical-align: middle;\n",
       "    }\n",
       "\n",
       "    .dataframe tbody tr th {\n",
       "        vertical-align: top;\n",
       "    }\n",
       "\n",
       "    .dataframe thead th {\n",
       "        text-align: right;\n",
       "    }\n",
       "</style>\n",
       "<table border=\"1\" class=\"dataframe\">\n",
       "  <thead>\n",
       "    <tr style=\"text-align: right;\">\n",
       "      <th></th>\n",
       "      <th>timestamp</th>\n",
       "      <th>open</th>\n",
       "      <th>high</th>\n",
       "      <th>low</th>\n",
       "      <th>close</th>\n",
       "      <th>volume</th>\n",
       "      <th>tweet_content</th>\n",
       "      <th>retweet_count</th>\n",
       "      <th>quote_count</th>\n",
       "      <th>like_count</th>\n",
       "    </tr>\n",
       "  </thead>\n",
       "  <tbody>\n",
       "    <tr>\n",
       "      <th>0</th>\n",
       "      <td>2020-12-20 08:30:00</td>\n",
       "      <td>0.003920</td>\n",
       "      <td>0.003930</td>\n",
       "      <td>0.003920</td>\n",
       "      <td>0.003922</td>\n",
       "      <td>1487104.0</td>\n",
       "      <td>NaN</td>\n",
       "      <td>NaN</td>\n",
       "      <td>NaN</td>\n",
       "      <td>NaN</td>\n",
       "    </tr>\n",
       "    <tr>\n",
       "      <th>1</th>\n",
       "      <td>2020-12-20 08:31:00</td>\n",
       "      <td>0.003925</td>\n",
       "      <td>0.003925</td>\n",
       "      <td>0.003922</td>\n",
       "      <td>0.003922</td>\n",
       "      <td>181327.0</td>\n",
       "      <td>NaN</td>\n",
       "      <td>NaN</td>\n",
       "      <td>NaN</td>\n",
       "      <td>NaN</td>\n",
       "    </tr>\n",
       "    <tr>\n",
       "      <th>2</th>\n",
       "      <td>2020-12-20 08:32:00</td>\n",
       "      <td>0.003922</td>\n",
       "      <td>0.003922</td>\n",
       "      <td>0.003922</td>\n",
       "      <td>0.003922</td>\n",
       "      <td>0.0</td>\n",
       "      <td>NaN</td>\n",
       "      <td>NaN</td>\n",
       "      <td>NaN</td>\n",
       "      <td>NaN</td>\n",
       "    </tr>\n",
       "    <tr>\n",
       "      <th>3</th>\n",
       "      <td>2020-12-20 08:33:00</td>\n",
       "      <td>0.003922</td>\n",
       "      <td>0.003922</td>\n",
       "      <td>0.003922</td>\n",
       "      <td>0.003922</td>\n",
       "      <td>0.0</td>\n",
       "      <td>NaN</td>\n",
       "      <td>NaN</td>\n",
       "      <td>NaN</td>\n",
       "      <td>NaN</td>\n",
       "    </tr>\n",
       "    <tr>\n",
       "      <th>4</th>\n",
       "      <td>2020-12-20 08:34:00</td>\n",
       "      <td>0.003922</td>\n",
       "      <td>0.003923</td>\n",
       "      <td>0.003922</td>\n",
       "      <td>0.003922</td>\n",
       "      <td>167833.0</td>\n",
       "      <td>NaN</td>\n",
       "      <td>NaN</td>\n",
       "      <td>NaN</td>\n",
       "      <td>NaN</td>\n",
       "    </tr>\n",
       "  </tbody>\n",
       "</table>\n",
       "</div>"
      ],
      "text/plain": [
       "            timestamp      open      high       low     close     volume  \\\n",
       "0 2020-12-20 08:30:00  0.003920  0.003930  0.003920  0.003922  1487104.0   \n",
       "1 2020-12-20 08:31:00  0.003925  0.003925  0.003922  0.003922   181327.0   \n",
       "2 2020-12-20 08:32:00  0.003922  0.003922  0.003922  0.003922        0.0   \n",
       "3 2020-12-20 08:33:00  0.003922  0.003922  0.003922  0.003922        0.0   \n",
       "4 2020-12-20 08:34:00  0.003922  0.003923  0.003922  0.003922   167833.0   \n",
       "\n",
       "  tweet_content  retweet_count  quote_count  like_count  \n",
       "0           NaN            NaN          NaN         NaN  \n",
       "1           NaN            NaN          NaN         NaN  \n",
       "2           NaN            NaN          NaN         NaN  \n",
       "3           NaN            NaN          NaN         NaN  \n",
       "4           NaN            NaN          NaN         NaN  "
      ]
     },
     "execution_count": 16,
     "metadata": {},
     "output_type": "execute_result"
    }
   ],
   "source": [
    "merge_df.head()"
   ]
  },
  {
   "cell_type": "markdown",
   "metadata": {},
   "source": [
    "### Google Trends for Doge"
   ]
  },
  {
   "cell_type": "code",
   "execution_count": 11,
   "metadata": {},
   "outputs": [],
   "source": [
    "pytrend = TrendReq()\n",
    "pytrend.build_payload(kw_list = [\"doge\"],timeframe='2020-12-01 2021-07-31')\n",
    "trends = pytrend.interest_over_time()\n",
    "trendsdf = pd.DataFrame(data = {'date': trends.index.tolist(),\n",
    "                                'search': trends[\"doge\"].tolist()})\n",
    "trendsdf['date'] = pd.to_datetime(trendsdf['date'])\n",
    "# trendsdf['week'] = trendsdf['date'].dt.week\n",
    "# trendsdf = trendsdf[trendsdf['week'] != 53]\n",
    "# trendsdf = trendsdf.groupby('week')['search'].agg([np.mean]).reset_index().rename(columns = {'mean':'avg_search'})"
   ]
  },
  {
   "cell_type": "code",
   "execution_count": 18,
   "metadata": {},
   "outputs": [
    {
     "name": "stdout",
     "output_type": "stream",
     "text": [
      "<class 'pandas.core.frame.DataFrame'>\n",
      "RangeIndex: 243 entries, 0 to 242\n",
      "Data columns (total 2 columns):\n",
      " #   Column  Non-Null Count  Dtype         \n",
      "---  ------  --------------  -----         \n",
      " 0   date    243 non-null    datetime64[ns]\n",
      " 1   search  243 non-null    int64         \n",
      "dtypes: datetime64[ns](1), int64(1)\n",
      "memory usage: 3.9 KB\n"
     ]
    }
   ],
   "source": [
    "trendsdf.info()"
   ]
  },
  {
   "cell_type": "code",
   "execution_count": null,
   "metadata": {},
   "outputs": [],
   "source": []
  }
 ],
 "metadata": {
  "interpreter": {
   "hash": "1fcd4bfa725205e95a3be74a2e7b3f4eeccc4e698a610c9426e5641479bde50b"
  },
  "kernelspec": {
   "display_name": "Python 3.8.8 64-bit ('base': conda)",
   "language": "python",
   "name": "python3"
  },
  "language_info": {
   "codemirror_mode": {
    "name": "ipython",
    "version": 3
   },
   "file_extension": ".py",
   "mimetype": "text/x-python",
   "name": "python",
   "nbconvert_exporter": "python",
   "pygments_lexer": "ipython3",
   "version": "3.8.8"
  },
  "orig_nbformat": 4
 },
 "nbformat": 4,
 "nbformat_minor": 2
}
